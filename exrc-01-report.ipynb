{
 "cells": [
  {
   "cell_type": "code",
   "execution_count": null,
   "metadata": {},
   "outputs": [],
   "source": [
    "import pandas as pd\n",
    "import numpy as np\n",
    "import matplotlib.pyplot as plt\n",
    "\n",
    "file_name = \"[CSV_NAME]\"  \n",
    "weather_data = pd.read_csv(file_name)\n",
    "\n",
    "weather_data = weather_data.dropna() \n",
    "\n",
    "average_values = {\n",
    "    'Relative Humidity': weather_data['RH'].mean(),\n",
    "    'Temperature Average': weather_data['TA'].mean(),\n",
    "    'Wind Speed': weather_data['WS'].mean(),\n",
    "    'Precipitation Amount': weather_data['PRA'].mean(),\n",
    "    'Pressure Average': weather_data['PA'].mean()\n",
    "}\n",
    "\n",
    "parameters = ['RH', 'TA', 'WS', 'PRA', 'PA']\n",
    "statistics = {}\n",
    "for param in parameters:\n",
    "    statistics[param] = {\n",
    "        'Minimum': np.min(weather_data[param]),\n",
    "        'Maximum': np.max(weather_data[param]),\n",
    "        'Median': np.median(weather_data[param])\n",
    "    }\n",
    "\n",
    "max_hours = {}\n",
    "for param in parameters:\n",
    "    max_hour_index = weather_data[param].idxmax()\n",
    "    max_hours[param] = weather_data.loc[max_hour_index, 'Time'] \n",
    "\n",
    "plt.figure(figsize=(10, 6))\n",
    "plt.plot(weather_data['Time'], weather_data['RH'], label='Relative Humidity')\n",
    "plt.xlabel('Time')\n",
    "plt.ylabel('Relative Humidity')\n",
    "plt.title('Relative Humidity Over Time')\n",
    "plt.legend()\n",
    "plt.show()\n",
    "\n",
    "with open(\"exrc-01-answer.txt\", \"w\") as file:\n",
    "    for param, avg in average_values.items():\n",
    "        file.write(f\"{param}: {avg}\\n\")\n"
   ]
  }
 ],
 "metadata": {
  "language_info": {
   "name": "python"
  }
 },
 "nbformat": 4,
 "nbformat_minor": 5
}
